{
 "cells": [
  {
   "cell_type": "markdown",
   "id": "8eab3464",
   "metadata": {},
   "source": [
    "Importing necessary libraries"
   ]
  },
  {
   "cell_type": "code",
   "execution_count": 41,
   "id": "4dd0a2c1",
   "metadata": {},
   "outputs": [],
   "source": [
    "import pandas as pd\n",
    "import numpy as np\n",
    "from matplotlib import pyplot as plt\n",
    "from tensorflow.keras.models import Sequential\n",
    "from tensorflow.keras.layers import Dense\n",
    "from keras.regularizers import l2\n",
    "from keras.regularizers import l1"
   ]
  },
  {
   "cell_type": "markdown",
   "id": "abc39f11",
   "metadata": {},
   "source": [
    "Reading Dataset into DataFrame"
   ]
  },
  {
   "cell_type": "code",
   "execution_count": 42,
   "id": "61fa715d",
   "metadata": {},
   "outputs": [
    {
     "data": {
      "text/html": [
       "<div>\n",
       "<style scoped>\n",
       "    .dataframe tbody tr th:only-of-type {\n",
       "        vertical-align: middle;\n",
       "    }\n",
       "\n",
       "    .dataframe tbody tr th {\n",
       "        vertical-align: top;\n",
       "    }\n",
       "\n",
       "    .dataframe thead th {\n",
       "        text-align: right;\n",
       "    }\n",
       "</style>\n",
       "<table border=\"1\" class=\"dataframe\">\n",
       "  <thead>\n",
       "    <tr style=\"text-align: right;\">\n",
       "      <th></th>\n",
       "      <th>Pregnancies</th>\n",
       "      <th>Glucose</th>\n",
       "      <th>BloodPressure</th>\n",
       "      <th>SkinThickness</th>\n",
       "      <th>Insulin</th>\n",
       "      <th>BMI</th>\n",
       "      <th>DiabetesPedigreeFunction</th>\n",
       "      <th>Age</th>\n",
       "      <th>Outcome</th>\n",
       "    </tr>\n",
       "  </thead>\n",
       "  <tbody>\n",
       "    <tr>\n",
       "      <th>0</th>\n",
       "      <td>6</td>\n",
       "      <td>148</td>\n",
       "      <td>72</td>\n",
       "      <td>35</td>\n",
       "      <td>0</td>\n",
       "      <td>33.6</td>\n",
       "      <td>0.627</td>\n",
       "      <td>50</td>\n",
       "      <td>1</td>\n",
       "    </tr>\n",
       "    <tr>\n",
       "      <th>1</th>\n",
       "      <td>1</td>\n",
       "      <td>85</td>\n",
       "      <td>66</td>\n",
       "      <td>29</td>\n",
       "      <td>0</td>\n",
       "      <td>26.6</td>\n",
       "      <td>0.351</td>\n",
       "      <td>31</td>\n",
       "      <td>0</td>\n",
       "    </tr>\n",
       "    <tr>\n",
       "      <th>2</th>\n",
       "      <td>8</td>\n",
       "      <td>183</td>\n",
       "      <td>64</td>\n",
       "      <td>0</td>\n",
       "      <td>0</td>\n",
       "      <td>23.3</td>\n",
       "      <td>0.672</td>\n",
       "      <td>32</td>\n",
       "      <td>1</td>\n",
       "    </tr>\n",
       "    <tr>\n",
       "      <th>3</th>\n",
       "      <td>1</td>\n",
       "      <td>89</td>\n",
       "      <td>66</td>\n",
       "      <td>23</td>\n",
       "      <td>94</td>\n",
       "      <td>28.1</td>\n",
       "      <td>0.167</td>\n",
       "      <td>21</td>\n",
       "      <td>0</td>\n",
       "    </tr>\n",
       "    <tr>\n",
       "      <th>4</th>\n",
       "      <td>0</td>\n",
       "      <td>137</td>\n",
       "      <td>40</td>\n",
       "      <td>35</td>\n",
       "      <td>168</td>\n",
       "      <td>43.1</td>\n",
       "      <td>2.288</td>\n",
       "      <td>33</td>\n",
       "      <td>1</td>\n",
       "    </tr>\n",
       "  </tbody>\n",
       "</table>\n",
       "</div>"
      ],
      "text/plain": [
       "   Pregnancies  Glucose  BloodPressure  SkinThickness  Insulin   BMI  \\\n",
       "0            6      148             72             35        0  33.6   \n",
       "1            1       85             66             29        0  26.6   \n",
       "2            8      183             64              0        0  23.3   \n",
       "3            1       89             66             23       94  28.1   \n",
       "4            0      137             40             35      168  43.1   \n",
       "\n",
       "   DiabetesPedigreeFunction  Age  Outcome  \n",
       "0                     0.627   50        1  \n",
       "1                     0.351   31        0  \n",
       "2                     0.672   32        1  \n",
       "3                     0.167   21        0  \n",
       "4                     2.288   33        1  "
      ]
     },
     "execution_count": 42,
     "metadata": {},
     "output_type": "execute_result"
    }
   ],
   "source": [
    "data_df = pd.read_csv('diabetes.csv')\n",
    "data_df.head(5)"
   ]
  },
  {
   "cell_type": "markdown",
   "id": "ded7847b",
   "metadata": {},
   "source": [
    "checking for 0's in colums of each feature. "
   ]
  },
  {
   "cell_type": "code",
   "execution_count": 43,
   "id": "013fea40",
   "metadata": {},
   "outputs": [
    {
     "data": {
      "text/plain": [
       "Pregnancies                 111\n",
       "Glucose                       5\n",
       "BloodPressure                35\n",
       "SkinThickness               227\n",
       "Insulin                     374\n",
       "BMI                          11\n",
       "DiabetesPedigreeFunction      0\n",
       "Age                           0\n",
       "Outcome                     500\n",
       "dtype: int64"
      ]
     },
     "execution_count": 43,
     "metadata": {},
     "output_type": "execute_result"
    }
   ],
   "source": [
    "zeros_data=(data_df[:]==0)\n",
    "zeros_data.sum()"
   ]
  },
  {
   "cell_type": "markdown",
   "id": "dc5223a6",
   "metadata": {},
   "source": [
    "Cleaning Dataset by substituting mean of each column in the palce of it's vlaues where the the value is 0 respectively"
   ]
  },
  {
   "cell_type": "code",
   "execution_count": 44,
   "id": "27a76170",
   "metadata": {},
   "outputs": [
    {
     "data": {
      "text/html": [
       "<div>\n",
       "<style scoped>\n",
       "    .dataframe tbody tr th:only-of-type {\n",
       "        vertical-align: middle;\n",
       "    }\n",
       "\n",
       "    .dataframe tbody tr th {\n",
       "        vertical-align: top;\n",
       "    }\n",
       "\n",
       "    .dataframe thead th {\n",
       "        text-align: right;\n",
       "    }\n",
       "</style>\n",
       "<table border=\"1\" class=\"dataframe\">\n",
       "  <thead>\n",
       "    <tr style=\"text-align: right;\">\n",
       "      <th></th>\n",
       "      <th>Pregnancies</th>\n",
       "      <th>Glucose</th>\n",
       "      <th>BloodPressure</th>\n",
       "      <th>SkinThickness</th>\n",
       "      <th>Insulin</th>\n",
       "      <th>BMI</th>\n",
       "      <th>DiabetesPedigreeFunction</th>\n",
       "      <th>Age</th>\n",
       "      <th>Outcome</th>\n",
       "    </tr>\n",
       "  </thead>\n",
       "  <tbody>\n",
       "    <tr>\n",
       "      <th>0</th>\n",
       "      <td>6</td>\n",
       "      <td>148</td>\n",
       "      <td>72</td>\n",
       "      <td>35</td>\n",
       "      <td>0</td>\n",
       "      <td>33.6</td>\n",
       "      <td>0.627</td>\n",
       "      <td>50</td>\n",
       "      <td>1</td>\n",
       "    </tr>\n",
       "    <tr>\n",
       "      <th>1</th>\n",
       "      <td>1</td>\n",
       "      <td>85</td>\n",
       "      <td>66</td>\n",
       "      <td>29</td>\n",
       "      <td>0</td>\n",
       "      <td>26.6</td>\n",
       "      <td>0.351</td>\n",
       "      <td>31</td>\n",
       "      <td>0</td>\n",
       "    </tr>\n",
       "    <tr>\n",
       "      <th>2</th>\n",
       "      <td>8</td>\n",
       "      <td>183</td>\n",
       "      <td>64</td>\n",
       "      <td>0</td>\n",
       "      <td>0</td>\n",
       "      <td>23.3</td>\n",
       "      <td>0.672</td>\n",
       "      <td>32</td>\n",
       "      <td>1</td>\n",
       "    </tr>\n",
       "    <tr>\n",
       "      <th>3</th>\n",
       "      <td>1</td>\n",
       "      <td>89</td>\n",
       "      <td>66</td>\n",
       "      <td>23</td>\n",
       "      <td>94</td>\n",
       "      <td>28.1</td>\n",
       "      <td>0.167</td>\n",
       "      <td>21</td>\n",
       "      <td>0</td>\n",
       "    </tr>\n",
       "    <tr>\n",
       "      <th>4</th>\n",
       "      <td>0</td>\n",
       "      <td>137</td>\n",
       "      <td>40</td>\n",
       "      <td>35</td>\n",
       "      <td>168</td>\n",
       "      <td>43.1</td>\n",
       "      <td>2.288</td>\n",
       "      <td>33</td>\n",
       "      <td>1</td>\n",
       "    </tr>\n",
       "  </tbody>\n",
       "</table>\n",
       "</div>"
      ],
      "text/plain": [
       "   Pregnancies  Glucose  BloodPressure  SkinThickness  Insulin   BMI  \\\n",
       "0            6      148             72             35        0  33.6   \n",
       "1            1       85             66             29        0  26.6   \n",
       "2            8      183             64              0        0  23.3   \n",
       "3            1       89             66             23       94  28.1   \n",
       "4            0      137             40             35      168  43.1   \n",
       "\n",
       "   DiabetesPedigreeFunction  Age  Outcome  \n",
       "0                     0.627   50        1  \n",
       "1                     0.351   31        0  \n",
       "2                     0.672   32        1  \n",
       "3                     0.167   21        0  \n",
       "4                     2.288   33        1  "
      ]
     },
     "execution_count": 44,
     "metadata": {},
     "output_type": "execute_result"
    }
   ],
   "source": [
    "data_clean = data_df.drop('Outcome',axis=1)\n",
    "for col in data_clean.columns:\n",
    "    val = data_df[col].mean()\n",
    "    data_df[col] = data_df[col].replace(0, val)\n",
    "data_clean['Outcome']=data_df['Outcome']\n",
    "data_clean.head(5)"
   ]
  },
  {
   "cell_type": "markdown",
   "id": "3534e414",
   "metadata": {},
   "source": [
    "After eleminating 0's from the feature vector we can now see there are no 0's in each column in available 8 features"
   ]
  },
  {
   "cell_type": "code",
   "execution_count": 45,
   "id": "2760f325",
   "metadata": {},
   "outputs": [
    {
     "data": {
      "text/plain": [
       "Pregnancies                 111\n",
       "Glucose                       5\n",
       "BloodPressure                35\n",
       "SkinThickness               227\n",
       "Insulin                     374\n",
       "BMI                          11\n",
       "DiabetesPedigreeFunction      0\n",
       "Age                           0\n",
       "Outcome                     500\n",
       "dtype: int64"
      ]
     },
     "execution_count": 45,
     "metadata": {},
     "output_type": "execute_result"
    }
   ],
   "source": [
    "data_clean['Outcome'] = data_df['Outcome']\n",
    "(data_clean[:]==0).sum()"
   ]
  },
  {
   "cell_type": "markdown",
   "id": "fcbdfdbf",
   "metadata": {},
   "source": [
    "seperating feature_vector which is independnt varibles and outcome_vector which is dependent varibale "
   ]
  },
  {
   "cell_type": "code",
   "execution_count": 46,
   "id": "a22fcfbd",
   "metadata": {},
   "outputs": [],
   "source": [
    "feature_vector = data_clean.iloc[0:,0:8].values\n",
    "outcome_vector = data_clean.iloc[0:,8].values"
   ]
  },
  {
   "cell_type": "markdown",
   "id": "9214fa53",
   "metadata": {},
   "source": [
    "using sklearn we will now scale the data using prepocessing method"
   ]
  },
  {
   "cell_type": "code",
   "execution_count": 47,
   "id": "b7fd70e9",
   "metadata": {},
   "outputs": [],
   "source": [
    "from sklearn.preprocessing import MinMaxScaler"
   ]
  },
  {
   "cell_type": "code",
   "execution_count": 48,
   "id": "5e8c9cfc",
   "metadata": {},
   "outputs": [
    {
     "data": {
      "text/plain": [
       "array([-0.88235294, -0.14572864,  0.08196721, -0.41414141, -1.        ,\n",
       "       -0.2071535 , -0.76686593, -0.66666667])"
      ]
     },
     "execution_count": 48,
     "metadata": {},
     "output_type": "execute_result"
    }
   ],
   "source": [
    "min_max_scaler =MinMaxScaler(feature_range=(-1,1))\n",
    "feature_vector = min_max_scaler.fit_transform(feature_vector)\n",
    "feature_vector[1]"
   ]
  },
  {
   "cell_type": "code",
   "execution_count": 49,
   "id": "8317d795",
   "metadata": {},
   "outputs": [
    {
     "name": "stdout",
     "output_type": "stream",
     "text": [
      "(768, 8) (768,)\n"
     ]
    }
   ],
   "source": [
    "print(feature_vector.shape,outcome_vector.shape)"
   ]
  },
  {
   "cell_type": "markdown",
   "id": "0830e113",
   "metadata": {},
   "source": [
    "We split data into Training ,Validation and Testing dataset using train_test_split method.\n",
    "From the avilable 100% dataset, we split in such a way that we get\n",
    "60% Training dataset, 20% validation dataset, 20% testing datast"
   ]
  },
  {
   "cell_type": "code",
   "execution_count": 54,
   "id": "390d0fdc",
   "metadata": {},
   "outputs": [
    {
     "name": "stdout",
     "output_type": "stream",
     "text": [
      "  Training Datast Feature Vector : (460, 8)    Training Dataset Outcome Vector : (460,)\n",
      "Validation Datast Feature Vector : (154, 8)  Validation Dataset Outcome Vector : (154,)\n",
      "   Testing Datast Feature Vector : (154, 8)     Testing Dataset Outcome Vector : (154,)\n"
     ]
    }
   ],
   "source": [
    "from sklearn.model_selection import train_test_split\n",
    "feature_initial_training, feature_test,outcome_initial_training, outcome_test = train_test_split(feature_vector,outcome_vector, test_size=0.2)\n",
    "feature_final_training,feature_valid,outcome_final_training,outcome_valid =train_test_split(feature_initial_training,outcome_initial_training,test_size = 0.25)\n",
    "print(\"  Training Datast Feature Vector :\" ,feature_final_training.shape,\"   Training Dataset Outcome Vector :\",outcome_final_training.shape)\n",
    "print(\"Validation Datast Feature Vector :\",feature_valid.shape,\" Validation Dataset Outcome Vector :\",outcome_valid.shape)\n",
    "print(\"   Testing Datast Feature Vector :\",feature_test.shape,\"    Testing Dataset Outcome Vector :\",outcome_test.shape)"
   ]
  },
  {
   "cell_type": "markdown",
   "id": "6444339a",
   "metadata": {},
   "source": [
    "Visualizing the shape of Training,Validation and Tetsing dataset"
   ]
  },
  {
   "cell_type": "code",
   "execution_count": 55,
   "id": "3babb117",
   "metadata": {},
   "outputs": [
    {
     "data": {
      "image/png": "[encoded data removed]",
      "text/plain": [
       "<Figure size 864x504 with 1 Axes>"
      ]
     },
     "metadata": {
      "needs_background": "light"
     },
     "output_type": "display_data"
    }
   ],
   "source": [
    "dataset = {'Training Data Set':len(feature_final_training), 'Validation Data Set':len(feature_valid), 'Test Data Set':len(feature_test)}\n",
    "split_data = list(dataset.keys())\n",
    "split_datasize = list(dataset.values())\n",
    "  \n",
    "fig = plt.figure(figsize = (12, 7))\n",
    " \n",
    "plt.bar(split_data,split_datasize,\n",
    "        width = 0.4,color=('purple', 'purple', 'purple'))\n",
    "plt.xlabel(\"Types of data\")\n",
    "plt.ylabel(\"No. of tupples in data\")\n",
    "plt.title(\"comparission of sample sizes\")\n",
    "plt.show()"
   ]
  },
  {
   "cell_type": "markdown",
   "id": "887514a0",
   "metadata": {},
   "source": [
    "Now we will train the model using training dataset and validate the model with validation dataset.\n",
    "we use one input layer , 1st Hidden layer with 12 nuerons and activation function is relu , 2nd hidden layer with 8 neurons with activation function relu.\n",
    "one output layer with one neuron because our output is binary\n",
    "\n",
    "We use accuracy and loss as our metric to evalute how good is our model\n"
   ]
  },
  {
   "cell_type": "markdown",
   "id": "c9cb3ace",
   "metadata": {},
   "source": [
    "Now in the first training model we will use L1 Regularization \n",
    "Hyper parameter are\n",
    "Input layer with 8 features as input\n",
    "Hidden layer 1 has 12 nuerons\n",
    "Hidden Layer 2 has 8 nuerons\n",
    "output layer has 1 nueron\n",
    "No. of epochs are 100\n"
   ]
  },
  {
   "cell_type": "code",
   "execution_count": 56,
   "id": "89f4137e",
   "metadata": {},
   "outputs": [
    {
     "name": "stdout",
     "output_type": "stream",
     "text": [
      "Epoch 1/100\n",
      "15/15 [==============================] - 0s 7ms/step - loss: 3.3994 - accuracy: 0.2870 - val_loss: 3.2989 - val_accuracy: 0.2987\n",
      "Epoch 2/100\n",
      "15/15 [==============================] - 0s 2ms/step - loss: 3.2309 - accuracy: 0.3435 - val_loss: 3.1465 - val_accuracy: 0.3636\n",
      "Epoch 3/100\n",
      "15/15 [==============================] - 0s 2ms/step - loss: 3.0699 - accuracy: 0.4587 - val_loss: 3.0013 - val_accuracy: 0.4740\n",
      "Epoch 4/100\n",
      "15/15 [==============================] - 0s 2ms/step - loss: 2.9165 - accuracy: 0.5609 - val_loss: 2.8629 - val_accuracy: 0.5390\n",
      "Epoch 5/100\n",
      "15/15 [==============================] - 0s 2ms/step - loss: 2.7709 - accuracy: 0.6348 - val_loss: 2.7300 - val_accuracy: 0.5649\n",
      "Epoch 6/100\n",
      "15/15 [==============================] - 0s 2ms/step - loss: 2.6294 - accuracy: 0.6565 - val_loss: 2.6013 - val_accuracy: 0.5779\n",
      "Epoch 7/100\n",
      "15/15 [==============================] - 0s 2ms/step - loss: 2.4969 - accuracy: 0.6587 - val_loss: 2.4797 - val_accuracy: 0.5779\n",
      "Epoch 8/100\n",
      "15/15 [==============================] - 0s 2ms/step - loss: 2.3700 - accuracy: 0.6587 - val_loss: 2.3618 - val_accuracy: 0.5779\n",
      "Epoch 9/100\n",
      "15/15 [==============================] - 0s 2ms/step - loss: 2.2492 - accuracy: 0.6587 - val_loss: 2.2469 - val_accuracy: 0.5779\n",
      "Epoch 10/100\n",
      "15/15 [==============================] - 0s 2ms/step - loss: 2.1306 - accuracy: 0.6587 - val_loss: 2.1306 - val_accuracy: 0.5779\n",
      "Epoch 11/100\n",
      "15/15 [==============================] - 0s 2ms/step - loss: 2.0159 - accuracy: 0.6587 - val_loss: 2.0204 - val_accuracy: 0.5779\n",
      "Epoch 12/100\n",
      "15/15 [==============================] - 0s 2ms/step - loss: 1.9054 - accuracy: 0.6587 - val_loss: 1.9114 - val_accuracy: 0.5779\n",
      "Epoch 13/100\n",
      "15/15 [==============================] - 0s 2ms/step - loss: 1.7984 - accuracy: 0.6587 - val_loss: 1.8059 - val_accuracy: 0.5779\n",
      "Epoch 14/100\n",
      "15/15 [==============================] - 0s 2ms/step - loss: 1.6964 - accuracy: 0.6587 - val_loss: 1.7074 - val_accuracy: 0.5779\n",
      "Epoch 15/100\n",
      "15/15 [==============================] - 0s 2ms/step - loss: 1.6011 - accuracy: 0.6587 - val_loss: 1.6143 - val_accuracy: 0.5779\n",
      "Epoch 16/100\n",
      "15/15 [==============================] - 0s 2ms/step - loss: 1.5103 - accuracy: 0.6587 - val_loss: 1.5201 - val_accuracy: 0.5779\n",
      "Epoch 17/100\n",
      "15/15 [==============================] - 0s 2ms/step - loss: 1.4236 - accuracy: 0.6587 - val_loss: 1.4325 - val_accuracy: 0.5779\n",
      "Epoch 18/100\n",
      "15/15 [==============================] - 0s 2ms/step - loss: 1.3418 - accuracy: 0.6587 - val_loss: 1.3540 - val_accuracy: 0.5779\n",
      "Epoch 19/100\n",
      "15/15 [==============================] - 0s 2ms/step - loss: 1.2622 - accuracy: 0.6609 - val_loss: 1.2757 - val_accuracy: 0.5779\n",
      "Epoch 20/100\n",
      "15/15 [==============================] - 0s 2ms/step - loss: 1.1857 - accuracy: 0.6630 - val_loss: 1.1980 - val_accuracy: 0.5779\n",
      "Epoch 21/100\n",
      "15/15 [==============================] - 0s 2ms/step - loss: 1.1137 - accuracy: 0.6630 - val_loss: 1.1314 - val_accuracy: 0.5779\n",
      "Epoch 22/100\n",
      "15/15 [==============================] - 0s 2ms/step - loss: 1.0499 - accuracy: 0.6630 - val_loss: 1.0711 - val_accuracy: 0.5779\n",
      "Epoch 23/100\n",
      "15/15 [==============================] - 0s 2ms/step - loss: 0.9913 - accuracy: 0.6652 - val_loss: 1.0127 - val_accuracy: 0.5779\n",
      "Epoch 24/100\n",
      "15/15 [==============================] - 0s 2ms/step - loss: 0.9364 - accuracy: 0.6652 - val_loss: 0.9609 - val_accuracy: 0.5779\n",
      "Epoch 25/100\n",
      "15/15 [==============================] - 0s 3ms/step - loss: 0.8881 - accuracy: 0.6652 - val_loss: 0.9145 - val_accuracy: 0.5844\n",
      "Epoch 26/100\n",
      "15/15 [==============================] - 0s 2ms/step - loss: 0.8460 - accuracy: 0.6717 - val_loss: 0.8752 - val_accuracy: 0.5844\n",
      "Epoch 27/100\n",
      "15/15 [==============================] - 0s 2ms/step - loss: 0.8080 - accuracy: 0.6674 - val_loss: 0.8406 - val_accuracy: 0.5844\n",
      "Epoch 28/100\n",
      "15/15 [==============================] - 0s 2ms/step - loss: 0.7758 - accuracy: 0.6587 - val_loss: 0.8105 - val_accuracy: 0.5779\n",
      "Epoch 29/100\n",
      "15/15 [==============================] - 0s 2ms/step - loss: 0.7478 - accuracy: 0.6587 - val_loss: 0.7812 - val_accuracy: 0.5844\n",
      "Epoch 30/100\n",
      "15/15 [==============================] - 0s 2ms/step - loss: 0.7236 - accuracy: 0.6609 - val_loss: 0.7541 - val_accuracy: 0.5844\n",
      "Epoch 31/100\n",
      "15/15 [==============================] - 0s 2ms/step - loss: 0.7003 - accuracy: 0.6587 - val_loss: 0.7318 - val_accuracy: 0.5779\n",
      "Epoch 32/100\n",
      "15/15 [==============================] - 0s 3ms/step - loss: 0.6810 - accuracy: 0.6587 - val_loss: 0.7158 - val_accuracy: 0.5779\n",
      "Epoch 33/100\n",
      "15/15 [==============================] - 0s 3ms/step - loss: 0.6683 - accuracy: 0.6587 - val_loss: 0.7047 - val_accuracy: 0.5779\n",
      "Epoch 34/100\n",
      "15/15 [==============================] - 0s 2ms/step - loss: 0.6561 - accuracy: 0.6587 - val_loss: 0.6896 - val_accuracy: 0.5779\n",
      "Epoch 35/100\n",
      "15/15 [==============================] - 0s 2ms/step - loss: 0.6459 - accuracy: 0.6587 - val_loss: 0.6795 - val_accuracy: 0.5779\n",
      "Epoch 36/100\n",
      "15/15 [==============================] - 0s 2ms/step - loss: 0.6400 - accuracy: 0.6587 - val_loss: 0.6774 - val_accuracy: 0.5779\n",
      "Epoch 37/100\n",
      "15/15 [==============================] - 0s 2ms/step - loss: 0.6364 - accuracy: 0.6587 - val_loss: 0.6726 - val_accuracy: 0.5779\n",
      "Epoch 38/100\n",
      "15/15 [==============================] - 0s 2ms/step - loss: 0.6343 - accuracy: 0.6587 - val_loss: 0.6713 - val_accuracy: 0.5779\n",
      "Epoch 39/100\n",
      "15/15 [==============================] - 0s 2ms/step - loss: 0.6329 - accuracy: 0.6587 - val_loss: 0.6713 - val_accuracy: 0.5779\n",
      "Epoch 40/100\n",
      "15/15 [==============================] - 0s 2ms/step - loss: 0.6312 - accuracy: 0.6609 - val_loss: 0.6684 - val_accuracy: 0.5844\n",
      "Epoch 41/100\n",
      "15/15 [==============================] - 0s 2ms/step - loss: 0.6302 - accuracy: 0.6609 - val_loss: 0.6672 - val_accuracy: 0.5844\n",
      "Epoch 42/100\n",
      "15/15 [==============================] - 0s 2ms/step - loss: 0.6276 - accuracy: 0.6587 - val_loss: 0.6628 - val_accuracy: 0.6039\n",
      "Epoch 43/100\n",
      "15/15 [==============================] - 0s 2ms/step - loss: 0.6255 - accuracy: 0.6609 - val_loss: 0.6607 - val_accuracy: 0.6039\n",
      "Epoch 44/100\n",
      "15/15 [==============================] - 0s 2ms/step - loss: 0.6259 - accuracy: 0.6761 - val_loss: 0.6596 - val_accuracy: 0.6104\n",
      "Epoch 45/100\n",
      "15/15 [==============================] - 0s 2ms/step - loss: 0.6236 - accuracy: 0.6761 - val_loss: 0.6563 - val_accuracy: 0.6169\n",
      "Epoch 46/100\n",
      "15/15 [==============================] - 0s 2ms/step - loss: 0.6214 - accuracy: 0.6848 - val_loss: 0.6513 - val_accuracy: 0.6429\n",
      "Epoch 47/100\n",
      "15/15 [==============================] - 0s 2ms/step - loss: 0.6185 - accuracy: 0.6957 - val_loss: 0.6457 - val_accuracy: 0.6494\n",
      "Epoch 48/100\n",
      "15/15 [==============================] - 0s 2ms/step - loss: 0.6162 - accuracy: 0.7065 - val_loss: 0.6501 - val_accuracy: 0.6429\n",
      "Epoch 49/100\n",
      "15/15 [==============================] - 0s 2ms/step - loss: 0.6144 - accuracy: 0.6957 - val_loss: 0.6442 - val_accuracy: 0.6494\n",
      "Epoch 50/100\n",
      "15/15 [==============================] - 0s 2ms/step - loss: 0.6120 - accuracy: 0.7087 - val_loss: 0.6413 - val_accuracy: 0.6558\n",
      "Epoch 51/100\n",
      "15/15 [==============================] - 0s 2ms/step - loss: 0.6116 - accuracy: 0.7152 - val_loss: 0.6391 - val_accuracy: 0.6688\n",
      "Epoch 52/100\n",
      "15/15 [==============================] - 0s 2ms/step - loss: 0.6084 - accuracy: 0.7109 - val_loss: 0.6377 - val_accuracy: 0.6688\n",
      "Epoch 53/100\n",
      "15/15 [==============================] - 0s 2ms/step - loss: 0.6067 - accuracy: 0.7152 - val_loss: 0.6337 - val_accuracy: 0.6948\n",
      "Epoch 54/100\n",
      "15/15 [==============================] - 0s 2ms/step - loss: 0.6051 - accuracy: 0.7413 - val_loss: 0.6284 - val_accuracy: 0.7013\n",
      "Epoch 55/100\n",
      "15/15 [==============================] - 0s 2ms/step - loss: 0.6024 - accuracy: 0.7370 - val_loss: 0.6269 - val_accuracy: 0.7013\n",
      "Epoch 56/100\n",
      "15/15 [==============================] - 0s 2ms/step - loss: 0.6004 - accuracy: 0.7457 - val_loss: 0.6249 - val_accuracy: 0.7078\n",
      "Epoch 57/100\n",
      "15/15 [==============================] - 0s 2ms/step - loss: 0.6020 - accuracy: 0.7261 - val_loss: 0.6226 - val_accuracy: 0.7208\n",
      "Epoch 58/100\n",
      "15/15 [==============================] - 0s 2ms/step - loss: 0.5978 - accuracy: 0.7500 - val_loss: 0.6158 - val_accuracy: 0.7403\n"
     ]
    },
    {
     "name": "stdout",
     "output_type": "stream",
     "text": [
      "Epoch 59/100\n",
      "15/15 [==============================] - 0s 2ms/step - loss: 0.5972 - accuracy: 0.7543 - val_loss: 0.6205 - val_accuracy: 0.7273\n",
      "Epoch 60/100\n",
      "15/15 [==============================] - 0s 2ms/step - loss: 0.5943 - accuracy: 0.7522 - val_loss: 0.6127 - val_accuracy: 0.7338\n",
      "Epoch 61/100\n",
      "15/15 [==============================] - 0s 2ms/step - loss: 0.5932 - accuracy: 0.7565 - val_loss: 0.6098 - val_accuracy: 0.7403\n",
      "Epoch 62/100\n",
      "15/15 [==============================] - 0s 2ms/step - loss: 0.5912 - accuracy: 0.7565 - val_loss: 0.6108 - val_accuracy: 0.7403\n",
      "Epoch 63/100\n",
      "15/15 [==============================] - 0s 2ms/step - loss: 0.5890 - accuracy: 0.7565 - val_loss: 0.6076 - val_accuracy: 0.7338\n",
      "Epoch 64/100\n",
      "15/15 [==============================] - 0s 2ms/step - loss: 0.5873 - accuracy: 0.7565 - val_loss: 0.6081 - val_accuracy: 0.7338\n",
      "Epoch 65/100\n",
      "15/15 [==============================] - 0s 2ms/step - loss: 0.5852 - accuracy: 0.7630 - val_loss: 0.6026 - val_accuracy: 0.7532\n",
      "Epoch 66/100\n",
      "15/15 [==============================] - 0s 2ms/step - loss: 0.5837 - accuracy: 0.7522 - val_loss: 0.5991 - val_accuracy: 0.7857\n",
      "Epoch 67/100\n",
      "15/15 [==============================] - 0s 2ms/step - loss: 0.5823 - accuracy: 0.7522 - val_loss: 0.6016 - val_accuracy: 0.7532\n",
      "Epoch 68/100\n",
      "15/15 [==============================] - 0s 2ms/step - loss: 0.5814 - accuracy: 0.7609 - val_loss: 0.6002 - val_accuracy: 0.7597\n",
      "Epoch 69/100\n",
      "15/15 [==============================] - 0s 2ms/step - loss: 0.5814 - accuracy: 0.7457 - val_loss: 0.6032 - val_accuracy: 0.7727\n",
      "Epoch 70/100\n",
      "15/15 [==============================] - 0s 2ms/step - loss: 0.5821 - accuracy: 0.7587 - val_loss: 0.5988 - val_accuracy: 0.7792\n",
      "Epoch 71/100\n",
      "15/15 [==============================] - 0s 2ms/step - loss: 0.5782 - accuracy: 0.7543 - val_loss: 0.5966 - val_accuracy: 0.7857\n",
      "Epoch 72/100\n",
      "15/15 [==============================] - 0s 2ms/step - loss: 0.5771 - accuracy: 0.7522 - val_loss: 0.5922 - val_accuracy: 0.7857\n",
      "Epoch 73/100\n",
      "15/15 [==============================] - 0s 2ms/step - loss: 0.5758 - accuracy: 0.7500 - val_loss: 0.5948 - val_accuracy: 0.7792\n",
      "Epoch 74/100\n",
      "15/15 [==============================] - 0s 1ms/step - loss: 0.5741 - accuracy: 0.7478 - val_loss: 0.5915 - val_accuracy: 0.7792\n",
      "Epoch 75/100\n",
      "15/15 [==============================] - 0s 2ms/step - loss: 0.5724 - accuracy: 0.7500 - val_loss: 0.5898 - val_accuracy: 0.7857\n",
      "Epoch 76/100\n",
      "15/15 [==============================] - 0s 2ms/step - loss: 0.5734 - accuracy: 0.7565 - val_loss: 0.5898 - val_accuracy: 0.7792\n",
      "Epoch 77/100\n",
      "15/15 [==============================] - 0s 2ms/step - loss: 0.5700 - accuracy: 0.7500 - val_loss: 0.5868 - val_accuracy: 0.7792\n",
      "Epoch 78/100\n",
      "15/15 [==============================] - 0s 2ms/step - loss: 0.5699 - accuracy: 0.7522 - val_loss: 0.5869 - val_accuracy: 0.7662\n",
      "Epoch 79/100\n",
      "15/15 [==============================] - 0s 2ms/step - loss: 0.5680 - accuracy: 0.7478 - val_loss: 0.5866 - val_accuracy: 0.7662\n",
      "Epoch 80/100\n",
      "15/15 [==============================] - 0s 2ms/step - loss: 0.5671 - accuracy: 0.7500 - val_loss: 0.5860 - val_accuracy: 0.7662\n",
      "Epoch 81/100\n",
      "15/15 [==============================] - 0s 2ms/step - loss: 0.5659 - accuracy: 0.7478 - val_loss: 0.5861 - val_accuracy: 0.7662\n",
      "Epoch 82/100\n",
      "15/15 [==============================] - 0s 2ms/step - loss: 0.5660 - accuracy: 0.7457 - val_loss: 0.5886 - val_accuracy: 0.7727\n",
      "Epoch 83/100\n",
      "15/15 [==============================] - 0s 2ms/step - loss: 0.5642 - accuracy: 0.7500 - val_loss: 0.5843 - val_accuracy: 0.7662\n",
      "Epoch 84/100\n",
      "15/15 [==============================] - 0s 2ms/step - loss: 0.5648 - accuracy: 0.7500 - val_loss: 0.5848 - val_accuracy: 0.7662\n",
      "Epoch 85/100\n",
      "15/15 [==============================] - 0s 2ms/step - loss: 0.5626 - accuracy: 0.7522 - val_loss: 0.5821 - val_accuracy: 0.7727\n",
      "Epoch 86/100\n",
      "15/15 [==============================] - 0s 2ms/step - loss: 0.5602 - accuracy: 0.7500 - val_loss: 0.5791 - val_accuracy: 0.7792\n",
      "Epoch 87/100\n",
      "15/15 [==============================] - 0s 2ms/step - loss: 0.5611 - accuracy: 0.7522 - val_loss: 0.5786 - val_accuracy: 0.7792\n",
      "Epoch 88/100\n",
      "15/15 [==============================] - 0s 2ms/step - loss: 0.5605 - accuracy: 0.7500 - val_loss: 0.5771 - val_accuracy: 0.7922\n",
      "Epoch 89/100\n",
      "15/15 [==============================] - 0s 2ms/step - loss: 0.5585 - accuracy: 0.7500 - val_loss: 0.5769 - val_accuracy: 0.7792\n",
      "Epoch 90/100\n",
      "15/15 [==============================] - 0s 2ms/step - loss: 0.5579 - accuracy: 0.7500 - val_loss: 0.5849 - val_accuracy: 0.7662\n",
      "Epoch 91/100\n",
      "15/15 [==============================] - 0s 2ms/step - loss: 0.5586 - accuracy: 0.7565 - val_loss: 0.5792 - val_accuracy: 0.7857\n",
      "Epoch 92/100\n",
      "15/15 [==============================] - 0s 2ms/step - loss: 0.5549 - accuracy: 0.7522 - val_loss: 0.5799 - val_accuracy: 0.7857\n",
      "Epoch 93/100\n",
      "15/15 [==============================] - 0s 2ms/step - loss: 0.5549 - accuracy: 0.7500 - val_loss: 0.5834 - val_accuracy: 0.7792\n",
      "Epoch 94/100\n",
      "15/15 [==============================] - 0s 2ms/step - loss: 0.5530 - accuracy: 0.7565 - val_loss: 0.5786 - val_accuracy: 0.7857\n",
      "Epoch 95/100\n",
      "15/15 [==============================] - 0s 2ms/step - loss: 0.5517 - accuracy: 0.7543 - val_loss: 0.5739 - val_accuracy: 0.7792\n",
      "Epoch 96/100\n",
      "15/15 [==============================] - 0s 2ms/step - loss: 0.5503 - accuracy: 0.7587 - val_loss: 0.5758 - val_accuracy: 0.7857\n",
      "Epoch 97/100\n",
      "15/15 [==============================] - 0s 2ms/step - loss: 0.5501 - accuracy: 0.7565 - val_loss: 0.5796 - val_accuracy: 0.7857\n",
      "Epoch 98/100\n",
      "15/15 [==============================] - 0s 2ms/step - loss: 0.5530 - accuracy: 0.7609 - val_loss: 0.5729 - val_accuracy: 0.7727\n",
      "Epoch 99/100\n",
      "15/15 [==============================] - 0s 2ms/step - loss: 0.5543 - accuracy: 0.7630 - val_loss: 0.5816 - val_accuracy: 0.7857\n",
      "Epoch 100/100\n",
      "15/15 [==============================] - 0s 2ms/step - loss: 0.5526 - accuracy: 0.7630 - val_loss: 0.5762 - val_accuracy: 0.7857\n"
     ]
    }
   ],
   "source": [
    "model_L1 = Sequential()\n",
    "model_L1.add(Dense(12, input_dim = len(feature_final_training[0, :]), activation = 'relu',kernel_regularizer=l1(0.1)))\n",
    "model_L1.add(Dense(8,activation = 'relu'))\n",
    "model_L1.add(Dense(1, activation = 'sigmoid'))\n",
    "model_L1.compile(loss = 'binary_crossentropy', optimizer = 'adam', metrics =['accuracy'])\n",
    "metrics_L1 = model_L1.fit(x = feature_final_training, y = outcome_final_training, epochs = 100 , validation_data=(feature_valid, outcome_valid),verbose = 1)"
   ]
  },
  {
   "cell_type": "markdown",
   "id": "2d810b70",
   "metadata": {},
   "source": [
    "Evaluating the model one in which we used L1 regularisation"
   ]
  },
  {
   "cell_type": "code",
   "execution_count": 57,
   "id": "13e73761",
   "metadata": {
    "scrolled": true
   },
   "outputs": [
    {
     "name": "stdout",
     "output_type": "stream",
     "text": [
      "4/4 [==============================] - 0s 667us/step - loss: 0.5469 - accuracy: 0.7609\n",
      "2/2 [==============================] - 0s 999us/step - loss: 0.5762 - accuracy: 0.7857\n",
      "2/2 [==============================] - 0s 1ms/step - loss: 0.6057 - accuracy: 0.7597\n"
     ]
    }
   ],
   "source": [
    "results_train_L1 = model_L1.evaluate(feature_final_training, outcome_final_training, batch_size=128)\n",
    "results_validation_L1 =model_L1.evaluate(feature_valid, outcome_valid, batch_size=128)\n",
    "results_test_L1 = model_L1.evaluate(feature_test, outcome_test, batch_size=128)"
   ]
  },
  {
   "cell_type": "markdown",
   "id": "daae0b66",
   "metadata": {},
   "source": [
    "From model in which we used L1 Regualarization,\n",
    "Visualzing Training Acuuracy Vs Validation Accuracy\n",
    "Visualizing Training Loss Vs Validation Loss"
   ]
  },
  {
   "cell_type": "code",
   "execution_count": 58,
   "id": "6304a612",
   "metadata": {},
   "outputs": [
    {
     "data": {
      "image/png": "[encoded data removed]",
      "text/plain": [
       "<Figure size 720x576 with 1 Axes>"
      ]
     },
     "metadata": {
      "needs_background": "light"
     },
     "output_type": "display_data"
    },
    {
     "data": {
      "image/png": "[encoded data removed]",
      "text/plain": [
       "<Figure size 720x576 with 1 Axes>"
      ]
     },
     "metadata": {
      "needs_background": "light"
     },
     "output_type": "display_data"
    }
   ],
   "source": [
    "# Plot the accuracy and loss of L1 regualisation model\n",
    "\n",
    "# Accuracy\n",
    "plt.figure(figsize=(10, 8))\n",
    "plt.plot(metrics_L1.history['accuracy'])\n",
    "plt.plot(metrics_L1.history['val_accuracy'])\n",
    "plt.title('Training and Validation Accuracy')\n",
    "plt.ylabel('Acurray ')\n",
    "plt.xlabel('Epoch')\n",
    "plt.legend(['Training Accuracy', 'Validation Accuracy'], loc='upper left')\n",
    "plt.show()\n",
    "\n",
    "# Loss\n",
    "plt.figure(figsize=(10, 8))\n",
    "plt.plot(metrics_L1.history['loss'])\n",
    "plt.plot(metrics_L1.history['val_loss'])\n",
    "plt.title('Training and Validation Loss')\n",
    "plt.ylabel('Loss')\n",
    "plt.xlabel('Epoch')\n",
    "plt.legend(['Training Loss', 'Validation Loss'], loc='upper left')\n",
    "plt.show()"
   ]
  },
  {
   "cell_type": "markdown",
   "id": "3c4aae14",
   "metadata": {},
   "source": [
    "Visualizing Acuuracy obtained in Training,Validatin,Testing datasets  "
   ]
  },
  {
   "cell_type": "code",
   "execution_count": 59,
   "id": "03d05135",
   "metadata": {},
   "outputs": [
    {
     "data": {
      "image/png": "[encoded data removed]",
      "text/plain": [
       "<Figure size 720x360 with 1 Axes>"
      ]
     },
     "metadata": {
      "needs_background": "light"
     },
     "output_type": "display_data"
    }
   ],
   "source": [
    "data_avail = {'Accuracy_Training':metrics_L1.history['accuracy'][-1]*100, 'Accuracy_Validation':metrics_L1.history['val_accuracy'][-1]*100, 'Accuracy_Test':results_test_L1[-1]*100}\n",
    "split_data_avail = list(data_avail.keys())\n",
    "split_accuracy_cal = list(data_avail.values())\n",
    "  \n",
    "fig = plt.figure(figsize = (10, 5))\n",
    " \n",
    "plt.bar(split_data_avail, split_accuracy_cal,\n",
    "        width = 0.5,color=('green', 'green', 'green'))\n",
    "plt.xlabel(\"Datasets Partition\")\n",
    "plt.ylabel(\"Accuracy %\")\n",
    "plt.title(\"Obtained Accuracy\")\n",
    "plt.show()"
   ]
  },
  {
   "cell_type": "markdown",
   "id": "8346dc27",
   "metadata": {},
   "source": [
    "Now in the second training model we will use L2 Regularisation \n",
    "Hyper parameter are\n",
    "Input layer with 8 features as input\n",
    "1st Hidden layer has 12 nuerons and activation fucntion is relu\n",
    "2nd Hidden layer has 8 nuerons and activation function is relu\n",
    "output layer has 1 nueron because the output is binary\n",
    "No. of epochs are 100\n"
   ]
  },
  {
   "cell_type": "code",
   "execution_count": 60,
   "id": "a0708708",
   "metadata": {},
   "outputs": [
    {
     "name": "stdout",
     "output_type": "stream",
     "text": [
      "Epoch 1/100\n",
      "15/15 [==============================] - 0s 7ms/step - loss: 1.6927 - accuracy: 0.3522 - val_loss: 1.6312 - val_accuracy: 0.4610\n",
      "Epoch 2/100\n",
      "15/15 [==============================] - 0s 2ms/step - loss: 1.5950 - accuracy: 0.4261 - val_loss: 1.5469 - val_accuracy: 0.5390\n",
      "Epoch 3/100\n",
      "15/15 [==============================] - 0s 2ms/step - loss: 1.5052 - accuracy: 0.6761 - val_loss: 1.4699 - val_accuracy: 0.5844\n",
      "Epoch 4/100\n",
      "15/15 [==============================] - 0s 2ms/step - loss: 1.4243 - accuracy: 0.6739 - val_loss: 1.4006 - val_accuracy: 0.5649\n",
      "Epoch 5/100\n",
      "15/15 [==============================] - 0s 2ms/step - loss: 1.3508 - accuracy: 0.6652 - val_loss: 1.3377 - val_accuracy: 0.5714\n",
      "Epoch 6/100\n",
      "15/15 [==============================] - 0s 2ms/step - loss: 1.2836 - accuracy: 0.6630 - val_loss: 1.2808 - val_accuracy: 0.5779\n",
      "Epoch 7/100\n",
      "15/15 [==============================] - 0s 2ms/step - loss: 1.2234 - accuracy: 0.6609 - val_loss: 1.2284 - val_accuracy: 0.5779\n",
      "Epoch 8/100\n",
      "15/15 [==============================] - 0s 2ms/step - loss: 1.1687 - accuracy: 0.6609 - val_loss: 1.1808 - val_accuracy: 0.5779\n",
      "Epoch 9/100\n",
      "15/15 [==============================] - 0s 2ms/step - loss: 1.1182 - accuracy: 0.6609 - val_loss: 1.1361 - val_accuracy: 0.5779\n",
      "Epoch 10/100\n",
      "15/15 [==============================] - 0s 2ms/step - loss: 1.0718 - accuracy: 0.6609 - val_loss: 1.0942 - val_accuracy: 0.5779\n",
      "Epoch 11/100\n",
      "15/15 [==============================] - 0s 2ms/step - loss: 1.0290 - accuracy: 0.6609 - val_loss: 1.0544 - val_accuracy: 0.5844\n",
      "Epoch 12/100\n",
      "15/15 [==============================] - ETA: 0s - loss: 1.0818 - accuracy: 0.50 - 0s 2ms/step - loss: 0.9887 - accuracy: 0.6674 - val_loss: 1.0184 - val_accuracy: 0.5844\n",
      "Epoch 13/100\n",
      "15/15 [==============================] - 0s 2ms/step - loss: 0.9517 - accuracy: 0.6696 - val_loss: 0.9841 - val_accuracy: 0.5909\n",
      "Epoch 14/100\n",
      "15/15 [==============================] - 0s 2ms/step - loss: 0.9167 - accuracy: 0.6761 - val_loss: 0.9526 - val_accuracy: 0.5974\n",
      "Epoch 15/100\n",
      "15/15 [==============================] - 0s 2ms/step - loss: 0.8849 - accuracy: 0.6870 - val_loss: 0.9211 - val_accuracy: 0.5909\n",
      "Epoch 16/100\n",
      "15/15 [==============================] - 0s 2ms/step - loss: 0.8553 - accuracy: 0.6891 - val_loss: 0.8943 - val_accuracy: 0.6039\n",
      "Epoch 17/100\n",
      "15/15 [==============================] - 0s 2ms/step - loss: 0.8278 - accuracy: 0.7000 - val_loss: 0.8637 - val_accuracy: 0.6364\n",
      "Epoch 18/100\n",
      "15/15 [==============================] - 0s 2ms/step - loss: 0.8018 - accuracy: 0.7109 - val_loss: 0.8389 - val_accuracy: 0.6494\n",
      "Epoch 19/100\n",
      "15/15 [==============================] - 0s 2ms/step - loss: 0.7777 - accuracy: 0.7152 - val_loss: 0.8159 - val_accuracy: 0.6429\n",
      "Epoch 20/100\n",
      "15/15 [==============================] - 0s 2ms/step - loss: 0.7551 - accuracy: 0.7152 - val_loss: 0.7947 - val_accuracy: 0.6558\n",
      "Epoch 21/100\n",
      "15/15 [==============================] - 0s 2ms/step - loss: 0.7325 - accuracy: 0.7217 - val_loss: 0.7703 - val_accuracy: 0.6558\n",
      "Epoch 22/100\n",
      "15/15 [==============================] - 0s 3ms/step - loss: 0.7130 - accuracy: 0.7283 - val_loss: 0.7456 - val_accuracy: 0.6558\n",
      "Epoch 23/100\n",
      "15/15 [==============================] - 0s 2ms/step - loss: 0.6946 - accuracy: 0.7283 - val_loss: 0.7380 - val_accuracy: 0.6623\n",
      "Epoch 24/100\n",
      "15/15 [==============================] - 0s 2ms/step - loss: 0.6758 - accuracy: 0.7391 - val_loss: 0.7099 - val_accuracy: 0.6753\n",
      "Epoch 25/100\n",
      "15/15 [==============================] - 0s 2ms/step - loss: 0.6577 - accuracy: 0.7391 - val_loss: 0.6998 - val_accuracy: 0.6688\n",
      "Epoch 26/100\n",
      "15/15 [==============================] - 0s 2ms/step - loss: 0.6420 - accuracy: 0.7370 - val_loss: 0.6827 - val_accuracy: 0.6688\n",
      "Epoch 27/100\n",
      "15/15 [==============================] - 0s 2ms/step - loss: 0.6273 - accuracy: 0.7391 - val_loss: 0.6665 - val_accuracy: 0.6753\n",
      "Epoch 28/100\n",
      "15/15 [==============================] - 0s 2ms/step - loss: 0.6142 - accuracy: 0.7478 - val_loss: 0.6557 - val_accuracy: 0.6753\n",
      "Epoch 29/100\n",
      "15/15 [==============================] - 0s 2ms/step - loss: 0.6016 - accuracy: 0.7457 - val_loss: 0.6462 - val_accuracy: 0.6818\n",
      "Epoch 30/100\n",
      "15/15 [==============================] - 0s 2ms/step - loss: 0.5924 - accuracy: 0.7391 - val_loss: 0.6390 - val_accuracy: 0.6883\n",
      "Epoch 31/100\n",
      "15/15 [==============================] - 0s 2ms/step - loss: 0.5820 - accuracy: 0.7478 - val_loss: 0.6285 - val_accuracy: 0.7078\n",
      "Epoch 32/100\n",
      "15/15 [==============================] - 0s 2ms/step - loss: 0.5717 - accuracy: 0.7413 - val_loss: 0.6127 - val_accuracy: 0.7468\n",
      "Epoch 33/100\n",
      "15/15 [==============================] - 0s 2ms/step - loss: 0.5640 - accuracy: 0.7478 - val_loss: 0.6149 - val_accuracy: 0.7208\n",
      "Epoch 34/100\n",
      "15/15 [==============================] - 0s 2ms/step - loss: 0.5566 - accuracy: 0.7522 - val_loss: 0.6036 - val_accuracy: 0.7468\n",
      "Epoch 35/100\n",
      "15/15 [==============================] - 0s 2ms/step - loss: 0.5506 - accuracy: 0.7543 - val_loss: 0.5958 - val_accuracy: 0.7403\n",
      "Epoch 36/100\n",
      "15/15 [==============================] - 0s 2ms/step - loss: 0.5450 - accuracy: 0.7500 - val_loss: 0.5902 - val_accuracy: 0.7338\n",
      "Epoch 37/100\n",
      "15/15 [==============================] - 0s 2ms/step - loss: 0.5391 - accuracy: 0.7522 - val_loss: 0.5911 - val_accuracy: 0.7468\n",
      "Epoch 38/100\n",
      "15/15 [==============================] - 0s 2ms/step - loss: 0.5333 - accuracy: 0.7522 - val_loss: 0.5788 - val_accuracy: 0.7403\n",
      "Epoch 39/100\n",
      "15/15 [==============================] - 0s 2ms/step - loss: 0.5300 - accuracy: 0.7609 - val_loss: 0.5768 - val_accuracy: 0.7338\n",
      "Epoch 40/100\n",
      "15/15 [==============================] - 0s 2ms/step - loss: 0.5246 - accuracy: 0.7630 - val_loss: 0.5710 - val_accuracy: 0.7532\n",
      "Epoch 41/100\n",
      "15/15 [==============================] - 0s 2ms/step - loss: 0.5216 - accuracy: 0.7652 - val_loss: 0.5740 - val_accuracy: 0.7468\n",
      "Epoch 42/100\n",
      "15/15 [==============================] - 0s 2ms/step - loss: 0.5189 - accuracy: 0.7609 - val_loss: 0.5758 - val_accuracy: 0.7532\n",
      "Epoch 43/100\n",
      "15/15 [==============================] - 0s 2ms/step - loss: 0.5152 - accuracy: 0.7630 - val_loss: 0.5582 - val_accuracy: 0.7597\n",
      "Epoch 44/100\n",
      "15/15 [==============================] - 0s 2ms/step - loss: 0.5138 - accuracy: 0.7587 - val_loss: 0.5665 - val_accuracy: 0.7597\n",
      "Epoch 45/100\n",
      "15/15 [==============================] - 0s 2ms/step - loss: 0.5114 - accuracy: 0.7696 - val_loss: 0.5525 - val_accuracy: 0.7597\n",
      "Epoch 46/100\n",
      "15/15 [==============================] - 0s 2ms/step - loss: 0.5059 - accuracy: 0.7696 - val_loss: 0.5609 - val_accuracy: 0.7597\n",
      "Epoch 47/100\n",
      "15/15 [==============================] - 0s 2ms/step - loss: 0.5035 - accuracy: 0.7630 - val_loss: 0.5534 - val_accuracy: 0.7662\n",
      "Epoch 48/100\n",
      "15/15 [==============================] - 0s 2ms/step - loss: 0.5023 - accuracy: 0.7652 - val_loss: 0.5564 - val_accuracy: 0.7597\n",
      "Epoch 49/100\n",
      "15/15 [==============================] - 0s 2ms/step - loss: 0.5002 - accuracy: 0.7609 - val_loss: 0.5572 - val_accuracy: 0.7597\n",
      "Epoch 50/100\n",
      "15/15 [==============================] - 0s 2ms/step - loss: 0.4971 - accuracy: 0.7717 - val_loss: 0.5466 - val_accuracy: 0.7727\n",
      "Epoch 51/100\n",
      "15/15 [==============================] - 0s 2ms/step - loss: 0.4957 - accuracy: 0.7739 - val_loss: 0.5493 - val_accuracy: 0.7727\n",
      "Epoch 52/100\n",
      "15/15 [==============================] - 0s 2ms/step - loss: 0.4933 - accuracy: 0.7717 - val_loss: 0.5489 - val_accuracy: 0.7727\n",
      "Epoch 53/100\n",
      "15/15 [==============================] - 0s 2ms/step - loss: 0.4935 - accuracy: 0.7652 - val_loss: 0.5465 - val_accuracy: 0.7727\n",
      "Epoch 54/100\n",
      "15/15 [==============================] - 0s 2ms/step - loss: 0.4911 - accuracy: 0.7739 - val_loss: 0.5531 - val_accuracy: 0.7662\n",
      "Epoch 55/100\n",
      "15/15 [==============================] - 0s 2ms/step - loss: 0.4892 - accuracy: 0.7696 - val_loss: 0.5409 - val_accuracy: 0.7662\n",
      "Epoch 56/100\n",
      "15/15 [==============================] - 0s 2ms/step - loss: 0.4883 - accuracy: 0.7696 - val_loss: 0.5458 - val_accuracy: 0.7727\n",
      "Epoch 57/100\n",
      "15/15 [==============================] - 0s 2ms/step - loss: 0.4876 - accuracy: 0.7652 - val_loss: 0.5389 - val_accuracy: 0.7662\n",
      "Epoch 58/100\n"
     ]
    },
    {
     "name": "stdout",
     "output_type": "stream",
     "text": [
      "15/15 [==============================] - 0s 2ms/step - loss: 0.4878 - accuracy: 0.7674 - val_loss: 0.5405 - val_accuracy: 0.7662\n",
      "Epoch 59/100\n",
      "15/15 [==============================] - 0s 2ms/step - loss: 0.4897 - accuracy: 0.7587 - val_loss: 0.5419 - val_accuracy: 0.7727\n",
      "Epoch 60/100\n",
      "15/15 [==============================] - 0s 2ms/step - loss: 0.4892 - accuracy: 0.7739 - val_loss: 0.5385 - val_accuracy: 0.7662\n",
      "Epoch 61/100\n",
      "15/15 [==============================] - 0s 2ms/step - loss: 0.4865 - accuracy: 0.7674 - val_loss: 0.5421 - val_accuracy: 0.7792\n",
      "Epoch 62/100\n",
      "15/15 [==============================] - 0s 2ms/step - loss: 0.4849 - accuracy: 0.7609 - val_loss: 0.5368 - val_accuracy: 0.7727\n",
      "Epoch 63/100\n",
      "15/15 [==============================] - 0s 1ms/step - loss: 0.4822 - accuracy: 0.7696 - val_loss: 0.5395 - val_accuracy: 0.7792\n",
      "Epoch 64/100\n",
      "15/15 [==============================] - 0s 2ms/step - loss: 0.4804 - accuracy: 0.7761 - val_loss: 0.5412 - val_accuracy: 0.7792\n",
      "Epoch 65/100\n",
      "15/15 [==============================] - 0s 2ms/step - loss: 0.4786 - accuracy: 0.7674 - val_loss: 0.5396 - val_accuracy: 0.7727\n",
      "Epoch 66/100\n",
      "15/15 [==============================] - 0s 2ms/step - loss: 0.4784 - accuracy: 0.7674 - val_loss: 0.5396 - val_accuracy: 0.7792\n",
      "Epoch 67/100\n",
      "15/15 [==============================] - 0s 2ms/step - loss: 0.4802 - accuracy: 0.7739 - val_loss: 0.5360 - val_accuracy: 0.7727\n",
      "Epoch 68/100\n",
      "15/15 [==============================] - 0s 2ms/step - loss: 0.4784 - accuracy: 0.7652 - val_loss: 0.5327 - val_accuracy: 0.7662\n",
      "Epoch 69/100\n",
      "15/15 [==============================] - 0s 2ms/step - loss: 0.4760 - accuracy: 0.7761 - val_loss: 0.5331 - val_accuracy: 0.7662\n",
      "Epoch 70/100\n",
      "15/15 [==============================] - 0s 2ms/step - loss: 0.4752 - accuracy: 0.7717 - val_loss: 0.5297 - val_accuracy: 0.7727\n",
      "Epoch 71/100\n",
      "15/15 [==============================] - 0s 2ms/step - loss: 0.4797 - accuracy: 0.7739 - val_loss: 0.5306 - val_accuracy: 0.7662\n",
      "Epoch 72/100\n",
      "15/15 [==============================] - 0s 2ms/step - loss: 0.4747 - accuracy: 0.7652 - val_loss: 0.5291 - val_accuracy: 0.7727\n",
      "Epoch 73/100\n",
      "15/15 [==============================] - 0s 2ms/step - loss: 0.4760 - accuracy: 0.7783 - val_loss: 0.5339 - val_accuracy: 0.7792\n",
      "Epoch 74/100\n",
      "15/15 [==============================] - 0s 2ms/step - loss: 0.4734 - accuracy: 0.7696 - val_loss: 0.5312 - val_accuracy: 0.7727\n",
      "Epoch 75/100\n",
      "15/15 [==============================] - 0s 2ms/step - loss: 0.4722 - accuracy: 0.7739 - val_loss: 0.5241 - val_accuracy: 0.7727\n",
      "Epoch 76/100\n",
      "15/15 [==============================] - 0s 2ms/step - loss: 0.4726 - accuracy: 0.7739 - val_loss: 0.5293 - val_accuracy: 0.7727\n",
      "Epoch 77/100\n",
      "15/15 [==============================] - 0s 2ms/step - loss: 0.4720 - accuracy: 0.7717 - val_loss: 0.5352 - val_accuracy: 0.7792\n",
      "Epoch 78/100\n",
      "15/15 [==============================] - 0s 2ms/step - loss: 0.4702 - accuracy: 0.7717 - val_loss: 0.5287 - val_accuracy: 0.7662\n",
      "Epoch 79/100\n",
      "15/15 [==============================] - 0s 2ms/step - loss: 0.4696 - accuracy: 0.7739 - val_loss: 0.5408 - val_accuracy: 0.7792\n",
      "Epoch 80/100\n",
      "15/15 [==============================] - 0s 2ms/step - loss: 0.4711 - accuracy: 0.7717 - val_loss: 0.5269 - val_accuracy: 0.7662\n",
      "Epoch 81/100\n",
      "15/15 [==============================] - 0s 2ms/step - loss: 0.4695 - accuracy: 0.7804 - val_loss: 0.5297 - val_accuracy: 0.7727\n",
      "Epoch 82/100\n",
      "15/15 [==============================] - 0s 2ms/step - loss: 0.4691 - accuracy: 0.7717 - val_loss: 0.5348 - val_accuracy: 0.7792\n",
      "Epoch 83/100\n",
      "15/15 [==============================] - 0s 2ms/step - loss: 0.4698 - accuracy: 0.7761 - val_loss: 0.5297 - val_accuracy: 0.7662\n",
      "Epoch 84/100\n",
      "15/15 [==============================] - 0s 2ms/step - loss: 0.4691 - accuracy: 0.7739 - val_loss: 0.5344 - val_accuracy: 0.7792\n",
      "Epoch 85/100\n",
      "15/15 [==============================] - 0s 2ms/step - loss: 0.4687 - accuracy: 0.7652 - val_loss: 0.5313 - val_accuracy: 0.7727\n",
      "Epoch 86/100\n",
      "15/15 [==============================] - 0s 2ms/step - loss: 0.4667 - accuracy: 0.7739 - val_loss: 0.5284 - val_accuracy: 0.7727\n",
      "Epoch 87/100\n",
      "15/15 [==============================] - 0s 2ms/step - loss: 0.4669 - accuracy: 0.7783 - val_loss: 0.5288 - val_accuracy: 0.7727\n",
      "Epoch 88/100\n",
      "15/15 [==============================] - 0s 2ms/step - loss: 0.4658 - accuracy: 0.7826 - val_loss: 0.5260 - val_accuracy: 0.7727\n",
      "Epoch 89/100\n",
      "15/15 [==============================] - 0s 2ms/step - loss: 0.4708 - accuracy: 0.7674 - val_loss: 0.5228 - val_accuracy: 0.7727\n",
      "Epoch 90/100\n",
      "15/15 [==============================] - 0s 2ms/step - loss: 0.4674 - accuracy: 0.7761 - val_loss: 0.5249 - val_accuracy: 0.7662\n",
      "Epoch 91/100\n",
      "15/15 [==============================] - 0s 2ms/step - loss: 0.4662 - accuracy: 0.7761 - val_loss: 0.5243 - val_accuracy: 0.7727\n",
      "Epoch 92/100\n",
      "15/15 [==============================] - 0s 2ms/step - loss: 0.4665 - accuracy: 0.7717 - val_loss: 0.5314 - val_accuracy: 0.7792\n",
      "Epoch 93/100\n",
      "15/15 [==============================] - 0s 2ms/step - loss: 0.4643 - accuracy: 0.7804 - val_loss: 0.5196 - val_accuracy: 0.7727\n",
      "Epoch 94/100\n",
      "15/15 [==============================] - 0s 2ms/step - loss: 0.4645 - accuracy: 0.7696 - val_loss: 0.5251 - val_accuracy: 0.7662\n",
      "Epoch 95/100\n",
      "15/15 [==============================] - 0s 2ms/step - loss: 0.4627 - accuracy: 0.7804 - val_loss: 0.5322 - val_accuracy: 0.7792\n",
      "Epoch 96/100\n",
      "15/15 [==============================] - 0s 2ms/step - loss: 0.4656 - accuracy: 0.7739 - val_loss: 0.5292 - val_accuracy: 0.7792\n",
      "Epoch 97/100\n",
      "15/15 [==============================] - 0s 2ms/step - loss: 0.4629 - accuracy: 0.7783 - val_loss: 0.5267 - val_accuracy: 0.7727\n",
      "Epoch 98/100\n",
      "15/15 [==============================] - 0s 2ms/step - loss: 0.4625 - accuracy: 0.7804 - val_loss: 0.5266 - val_accuracy: 0.7727\n",
      "Epoch 99/100\n",
      "15/15 [==============================] - 0s 2ms/step - loss: 0.4638 - accuracy: 0.7674 - val_loss: 0.5250 - val_accuracy: 0.7792\n",
      "Epoch 100/100\n",
      "15/15 [==============================] - 0s 2ms/step - loss: 0.4620 - accuracy: 0.7717 - val_loss: 0.5270 - val_accuracy: 0.7727\n"
     ]
    }
   ],
   "source": [
    "model_L2 = Sequential()\n",
    "model_L2.add(Dense(12, input_dim = len(feature_final_training[0, :]), activation = 'relu',kernel_regularizer=l2(0.1)))\n",
    "model_L2.add(Dense(8,activation = 'relu'))\n",
    "model_L2.add(Dense(1, activation = 'sigmoid'))\n",
    "model_L2.compile(loss = 'binary_crossentropy', optimizer = 'adam', metrics =['accuracy'])\n",
    "metrics_L2 = model_L2.fit(x = feature_final_training, y = outcome_final_training, epochs = 100 , validation_data=(feature_valid, outcome_valid),verbose = 1)"
   ]
  },
  {
   "cell_type": "code",
   "execution_count": 61,
   "id": "01826bb2",
   "metadata": {},
   "outputs": [
    {
     "name": "stdout",
     "output_type": "stream",
     "text": [
      "58/58 [==============================] - 0s 511us/step - loss: 0.4595 - accuracy: 0.7848\n",
      "20/20 [==============================] - 0s 877us/step - loss: 0.5270 - accuracy: 0.7727\n",
      "20/20 [==============================] - 0s 735us/step - loss: 0.5524 - accuracy: 0.7662\n"
     ]
    }
   ],
   "source": [
    "results_train_L2 = model_L2.evaluate(feature_final_training, outcome_final_training, batch_size=8)\n",
    "results_validation_L2 =model_L2.evaluate(feature_valid, outcome_valid, batch_size=8)\n",
    "results_test_L2 = model_L2.evaluate(feature_test, outcome_test, batch_size=8)"
   ]
  },
  {
   "cell_type": "markdown",
   "id": "fad59a12",
   "metadata": {},
   "source": [
    "From model in which we used L2 Regualarization\n",
    "Visualzing Training Acuuracy Vs Validation Accuracy\n",
    "Visualizing Training Loss Vs Validation Loss"
   ]
  },
  {
   "cell_type": "code",
   "execution_count": 62,
   "id": "354e536e",
   "metadata": {},
   "outputs": [
    {
     "data": {
      "image/png": "[encoded data removed]",
      "text/plain": [
       "<Figure size 720x576 with 1 Axes>"
      ]
     },
     "metadata": {
      "needs_background": "light"
     },
     "output_type": "display_data"
    },
    {
     "data": {
      "image/png": "[encoded data removed]",
      "text/plain": [
       "<Figure size 720x576 with 1 Axes>"
      ]
     },
     "metadata": {
      "needs_background": "light"
     },
     "output_type": "display_data"
    }
   ],
   "source": [
    "# Plot the accuracy and loss.\n",
    "\n",
    "# Accuracy\n",
    "plt.figure(figsize=(10, 8))\n",
    "plt.plot(metrics_L2.history['accuracy'])\n",
    "plt.plot(metrics_L2.history['val_accuracy'])\n",
    "plt.title('Training and Validation Accurracy')\n",
    "plt.ylabel('Error')\n",
    "plt.xlabel('Epoch')\n",
    "plt.legend(['Training Accuracy', 'Validation Accuracy'], loc='upper left')\n",
    "plt.show()\n",
    "\n",
    "# Loss\n",
    "plt.figure(figsize=(10, 8))\n",
    "plt.plot(metrics_L2.history['loss'])\n",
    "plt.plot(metrics_L2.history['val_loss'])\n",
    "plt.title('Training and Validation Loss')\n",
    "plt.ylabel('Loss')\n",
    "plt.xlabel('Epoch')\n",
    "plt.legend(['Training Loss', 'Validation Loss'], loc='upper left')\n",
    "plt.show()"
   ]
  },
  {
   "cell_type": "markdown",
   "id": "b58ee5c4",
   "metadata": {},
   "source": [
    "Visualizing Acuuracy obtained in Training,Validatin,Testing datasets"
   ]
  },
  {
   "cell_type": "code",
   "execution_count": 63,
   "id": "263124ff",
   "metadata": {},
   "outputs": [
    {
     "data": {
      "image/png": "[encoded data removed]",
      "text/plain": [
       "<Figure size 720x360 with 1 Axes>"
      ]
     },
     "metadata": {
      "needs_background": "light"
     },
     "output_type": "display_data"
    }
   ],
   "source": [
    "data_avail = {'Accuracy_Training':metrics_L2.history['accuracy'][-1]*100, 'Accuracy_Validation':metrics_L2.history['val_accuracy'][-1]*100, 'Accuracy_Test':results_test_L2[-1]*100}\n",
    "split_data_avail = list(data_avail.keys())\n",
    "split_accuracy_cal = list(data_avail.values())\n",
    "  \n",
    "fig = plt.figure(figsize = (10, 5))\n",
    " \n",
    "plt.bar(split_data_avail, split_accuracy_cal,\n",
    "        width = 0.5,color=('green', 'green', 'green'))\n",
    "plt.xlabel(\"Datasets Partition\")\n",
    "plt.ylabel(\"Accuracy %\")\n",
    "plt.title(\"Obtained Accuracy\")\n",
    "plt.show()"
   ]
  },
  {
   "cell_type": "markdown",
   "id": "8a4ddcf8",
   "metadata": {},
   "source": [
    "--------BONOUS PART-----------\n",
    "Building a Neural Network Model for Logistic Regression Classification which uses Dropout regularization"
   ]
  },
  {
   "cell_type": "markdown",
   "id": "f77a29e9",
   "metadata": {},
   "source": [
    "We have 1 inputvlayer which passes 8 feature values as inputs\n",
    "1st hidden layer with 12 nuerons and activation fucnction is relu\n",
    "we have dropout in 2nd hidden layer where we will drop 20% nuerons of it's previous hidden layer\n",
    "we have 3rd hidden layer  with 8 nuerons and activation function is relu\n",
    "we have output layer with 1 nueron\n",
    "No of epochs are 100"
   ]
  },
  {
   "cell_type": "code",
   "execution_count": 64,
   "id": "29dec849",
   "metadata": {},
   "outputs": [],
   "source": [
    "from keras.layers import Dropout"
   ]
  },
  {
   "cell_type": "code",
   "execution_count": 65,
   "id": "0e752b3f",
   "metadata": {},
   "outputs": [
    {
     "name": "stdout",
     "output_type": "stream",
     "text": [
      "Epoch 1/100\n",
      "58/58 [==============================] - 0s 2ms/step - loss: 0.6978 - accuracy: 0.5522 - val_loss: 0.6766 - val_accuracy: 0.5844\n",
      "Epoch 2/100\n",
      "58/58 [==============================] - 0s 1ms/step - loss: 0.6585 - accuracy: 0.6652 - val_loss: 0.6666 - val_accuracy: 0.5974\n",
      "Epoch 3/100\n",
      "58/58 [==============================] - 0s 989us/step - loss: 0.6368 - accuracy: 0.6804 - val_loss: 0.6586 - val_accuracy: 0.5844\n",
      "Epoch 4/100\n",
      "58/58 [==============================] - 0s 912us/step - loss: 0.6186 - accuracy: 0.6717 - val_loss: 0.6501 - val_accuracy: 0.5844\n",
      "Epoch 5/100\n",
      "58/58 [==============================] - 0s 964us/step - loss: 0.6034 - accuracy: 0.6913 - val_loss: 0.6390 - val_accuracy: 0.5974\n",
      "Epoch 6/100\n",
      "58/58 [==============================] - 0s 918us/step - loss: 0.5895 - accuracy: 0.6935 - val_loss: 0.6242 - val_accuracy: 0.6234\n",
      "Epoch 7/100\n",
      "58/58 [==============================] - 0s 1ms/step - loss: 0.5729 - accuracy: 0.7109 - val_loss: 0.5974 - val_accuracy: 0.6688\n",
      "Epoch 8/100\n",
      "58/58 [==============================] - 0s 1ms/step - loss: 0.5454 - accuracy: 0.7283 - val_loss: 0.5731 - val_accuracy: 0.7078\n",
      "Epoch 9/100\n",
      "58/58 [==============================] - 0s 756us/step - loss: 0.5103 - accuracy: 0.7500 - val_loss: 0.5433 - val_accuracy: 0.7597\n",
      "Epoch 10/100\n",
      "58/58 [==============================] - 0s 1ms/step - loss: 0.5168 - accuracy: 0.7522 - val_loss: 0.5545 - val_accuracy: 0.7532\n",
      "Epoch 11/100\n",
      "58/58 [==============================] - 0s 1ms/step - loss: 0.5169 - accuracy: 0.7457 - val_loss: 0.5421 - val_accuracy: 0.7597\n",
      "Epoch 12/100\n",
      "58/58 [==============================] - 0s 1ms/step - loss: 0.4984 - accuracy: 0.7565 - val_loss: 0.5387 - val_accuracy: 0.7597\n",
      "Epoch 13/100\n",
      "58/58 [==============================] - 0s 1ms/step - loss: 0.5085 - accuracy: 0.7457 - val_loss: 0.5348 - val_accuracy: 0.7662\n",
      "Epoch 14/100\n",
      "58/58 [==============================] - 0s 916us/step - loss: 0.4949 - accuracy: 0.7761 - val_loss: 0.5231 - val_accuracy: 0.7792\n",
      "Epoch 15/100\n",
      "58/58 [==============================] - 0s 895us/step - loss: 0.4810 - accuracy: 0.7500 - val_loss: 0.5113 - val_accuracy: 0.7792\n",
      "Epoch 16/100\n",
      "58/58 [==============================] - 0s 962us/step - loss: 0.4749 - accuracy: 0.7739 - val_loss: 0.5103 - val_accuracy: 0.7792\n",
      "Epoch 17/100\n",
      "58/58 [==============================] - 0s 913us/step - loss: 0.4909 - accuracy: 0.7674 - val_loss: 0.5146 - val_accuracy: 0.7857\n",
      "Epoch 18/100\n",
      "58/58 [==============================] - 0s 908us/step - loss: 0.4739 - accuracy: 0.7652 - val_loss: 0.5084 - val_accuracy: 0.7922\n",
      "Epoch 19/100\n",
      "58/58 [==============================] - 0s 942us/step - loss: 0.4732 - accuracy: 0.7652 - val_loss: 0.5110 - val_accuracy: 0.7857\n",
      "Epoch 20/100\n",
      "58/58 [==============================] - 0s 1ms/step - loss: 0.4607 - accuracy: 0.7804 - val_loss: 0.4996 - val_accuracy: 0.7922\n",
      "Epoch 21/100\n",
      "58/58 [==============================] - 0s 934us/step - loss: 0.4508 - accuracy: 0.7848 - val_loss: 0.4999 - val_accuracy: 0.7922\n",
      "Epoch 22/100\n",
      "58/58 [==============================] - 0s 1ms/step - loss: 0.4502 - accuracy: 0.8000 - val_loss: 0.5080 - val_accuracy: 0.7922\n",
      "Epoch 23/100\n",
      "58/58 [==============================] - 0s 929us/step - loss: 0.4745 - accuracy: 0.7565 - val_loss: 0.5005 - val_accuracy: 0.7922\n",
      "Epoch 24/100\n",
      "58/58 [==============================] - 0s 1ms/step - loss: 0.4544 - accuracy: 0.7739 - val_loss: 0.5088 - val_accuracy: 0.7922\n",
      "Epoch 25/100\n",
      "58/58 [==============================] - 0s 997us/step - loss: 0.4535 - accuracy: 0.7826 - val_loss: 0.4998 - val_accuracy: 0.7922\n",
      "Epoch 26/100\n",
      "58/58 [==============================] - 0s 1ms/step - loss: 0.4490 - accuracy: 0.7739 - val_loss: 0.4984 - val_accuracy: 0.7922\n",
      "Epoch 27/100\n",
      "58/58 [==============================] - 0s 1ms/step - loss: 0.4744 - accuracy: 0.7435 - val_loss: 0.5061 - val_accuracy: 0.7857\n",
      "Epoch 28/100\n",
      "58/58 [==============================] - 0s 1ms/step - loss: 0.4582 - accuracy: 0.7674 - val_loss: 0.4976 - val_accuracy: 0.7987\n",
      "Epoch 29/100\n",
      "58/58 [==============================] - 0s 1ms/step - loss: 0.4484 - accuracy: 0.7739 - val_loss: 0.5087 - val_accuracy: 0.7792\n",
      "Epoch 30/100\n",
      "58/58 [==============================] - 0s 1ms/step - loss: 0.4398 - accuracy: 0.7739 - val_loss: 0.4991 - val_accuracy: 0.7922\n",
      "Epoch 31/100\n",
      "58/58 [==============================] - 0s 1ms/step - loss: 0.4478 - accuracy: 0.7804 - val_loss: 0.4981 - val_accuracy: 0.7922\n",
      "Epoch 32/100\n",
      "58/58 [==============================] - 0s 1ms/step - loss: 0.4489 - accuracy: 0.7761 - val_loss: 0.4971 - val_accuracy: 0.7987\n",
      "Epoch 33/100\n",
      "58/58 [==============================] - 0s 1ms/step - loss: 0.4559 - accuracy: 0.7783 - val_loss: 0.4984 - val_accuracy: 0.7987\n",
      "Epoch 34/100\n",
      "58/58 [==============================] - 0s 1ms/step - loss: 0.4679 - accuracy: 0.7717 - val_loss: 0.5068 - val_accuracy: 0.7857\n",
      "Epoch 35/100\n",
      "58/58 [==============================] - 0s 1ms/step - loss: 0.4536 - accuracy: 0.7696 - val_loss: 0.5059 - val_accuracy: 0.7857\n",
      "Epoch 36/100\n",
      "58/58 [==============================] - 0s 1ms/step - loss: 0.4370 - accuracy: 0.8109 - val_loss: 0.5006 - val_accuracy: 0.7857\n",
      "Epoch 37/100\n",
      "58/58 [==============================] - 0s 1ms/step - loss: 0.4574 - accuracy: 0.7652 - val_loss: 0.5094 - val_accuracy: 0.7792\n",
      "Epoch 38/100\n",
      "58/58 [==============================] - 0s 1ms/step - loss: 0.4489 - accuracy: 0.7674 - val_loss: 0.5005 - val_accuracy: 0.7922\n",
      "Epoch 39/100\n",
      "58/58 [==============================] - 0s 1ms/step - loss: 0.4398 - accuracy: 0.8109 - val_loss: 0.5039 - val_accuracy: 0.7857\n",
      "Epoch 40/100\n",
      "58/58 [==============================] - 0s 1ms/step - loss: 0.4455 - accuracy: 0.8022 - val_loss: 0.5103 - val_accuracy: 0.7792\n",
      "Epoch 41/100\n",
      "58/58 [==============================] - 0s 1ms/step - loss: 0.4404 - accuracy: 0.7652 - val_loss: 0.5077 - val_accuracy: 0.7857\n",
      "Epoch 42/100\n",
      "58/58 [==============================] - 0s 1ms/step - loss: 0.4374 - accuracy: 0.7717 - val_loss: 0.5044 - val_accuracy: 0.7792\n",
      "Epoch 43/100\n",
      "58/58 [==============================] - 0s 1ms/step - loss: 0.4263 - accuracy: 0.8043 - val_loss: 0.5100 - val_accuracy: 0.7857\n",
      "Epoch 44/100\n",
      "58/58 [==============================] - 0s 1ms/step - loss: 0.4304 - accuracy: 0.7783 - val_loss: 0.5123 - val_accuracy: 0.7857\n",
      "Epoch 45/100\n",
      "58/58 [==============================] - 0s 1ms/step - loss: 0.4202 - accuracy: 0.7891 - val_loss: 0.5081 - val_accuracy: 0.7792\n",
      "Epoch 46/100\n",
      "58/58 [==============================] - 0s 1ms/step - loss: 0.4305 - accuracy: 0.7935 - val_loss: 0.5113 - val_accuracy: 0.7792\n",
      "Epoch 47/100\n",
      "58/58 [==============================] - 0s 974us/step - loss: 0.4385 - accuracy: 0.7935 - val_loss: 0.5103 - val_accuracy: 0.7662\n",
      "Epoch 48/100\n",
      "58/58 [==============================] - 0s 1ms/step - loss: 0.4335 - accuracy: 0.7913 - val_loss: 0.5159 - val_accuracy: 0.7727\n",
      "Epoch 49/100\n",
      "58/58 [==============================] - 0s 954us/step - loss: 0.4291 - accuracy: 0.7935 - val_loss: 0.5111 - val_accuracy: 0.7662\n",
      "Epoch 50/100\n",
      "58/58 [==============================] - 0s 959us/step - loss: 0.4255 - accuracy: 0.7891 - val_loss: 0.5085 - val_accuracy: 0.7662\n",
      "Epoch 51/100\n",
      "58/58 [==============================] - 0s 1ms/step - loss: 0.4268 - accuracy: 0.8087 - val_loss: 0.5153 - val_accuracy: 0.7727\n",
      "Epoch 52/100\n",
      "58/58 [==============================] - 0s 989us/step - loss: 0.4178 - accuracy: 0.8022 - val_loss: 0.5121 - val_accuracy: 0.7662\n",
      "Epoch 53/100\n",
      "58/58 [==============================] - 0s 1ms/step - loss: 0.4060 - accuracy: 0.7978 - val_loss: 0.5195 - val_accuracy: 0.7662\n",
      "Epoch 54/100\n",
      "58/58 [==============================] - 0s 1ms/step - loss: 0.4152 - accuracy: 0.7978 - val_loss: 0.5255 - val_accuracy: 0.7727\n",
      "Epoch 55/100\n",
      "58/58 [==============================] - 0s 1ms/step - loss: 0.4277 - accuracy: 0.7978 - val_loss: 0.5118 - val_accuracy: 0.7597\n",
      "Epoch 56/100\n",
      "58/58 [==============================] - 0s 1ms/step - loss: 0.4291 - accuracy: 0.7935 - val_loss: 0.5158 - val_accuracy: 0.7597\n",
      "Epoch 57/100\n",
      "58/58 [==============================] - 0s 1ms/step - loss: 0.4333 - accuracy: 0.7913 - val_loss: 0.5108 - val_accuracy: 0.7727\n",
      "Epoch 58/100\n"
     ]
    },
    {
     "name": "stdout",
     "output_type": "stream",
     "text": [
      "58/58 [==============================] - 0s 1ms/step - loss: 0.4257 - accuracy: 0.7848 - val_loss: 0.5212 - val_accuracy: 0.7597\n",
      "Epoch 59/100\n",
      "58/58 [==============================] - 0s 1ms/step - loss: 0.4158 - accuracy: 0.7891 - val_loss: 0.5179 - val_accuracy: 0.7532\n",
      "Epoch 60/100\n",
      "58/58 [==============================] - 0s 911us/step - loss: 0.4133 - accuracy: 0.8000 - val_loss: 0.5111 - val_accuracy: 0.7662\n",
      "Epoch 61/100\n",
      "58/58 [==============================] - 0s 1ms/step - loss: 0.4336 - accuracy: 0.8043 - val_loss: 0.5173 - val_accuracy: 0.7597\n",
      "Epoch 62/100\n",
      "58/58 [==============================] - 0s 1ms/step - loss: 0.4179 - accuracy: 0.8043 - val_loss: 0.5187 - val_accuracy: 0.7662\n",
      "Epoch 63/100\n",
      "58/58 [==============================] - 0s 906us/step - loss: 0.4121 - accuracy: 0.7913 - val_loss: 0.5181 - val_accuracy: 0.7727\n",
      "Epoch 64/100\n",
      "58/58 [==============================] - 0s 907us/step - loss: 0.4095 - accuracy: 0.8196 - val_loss: 0.5259 - val_accuracy: 0.7597\n",
      "Epoch 65/100\n",
      "58/58 [==============================] - 0s 916us/step - loss: 0.4094 - accuracy: 0.7913 - val_loss: 0.5255 - val_accuracy: 0.7727\n",
      "Epoch 66/100\n",
      "58/58 [==============================] - 0s 1ms/step - loss: 0.4308 - accuracy: 0.7826 - val_loss: 0.5331 - val_accuracy: 0.7597\n",
      "Epoch 67/100\n",
      "58/58 [==============================] - 0s 939us/step - loss: 0.4070 - accuracy: 0.7978 - val_loss: 0.5224 - val_accuracy: 0.7662\n",
      "Epoch 68/100\n",
      "58/58 [==============================] - 0s 966us/step - loss: 0.4172 - accuracy: 0.7978 - val_loss: 0.5394 - val_accuracy: 0.7532\n",
      "Epoch 69/100\n",
      "58/58 [==============================] - 0s 740us/step - loss: 0.4143 - accuracy: 0.8000 - val_loss: 0.5323 - val_accuracy: 0.7597\n",
      "Epoch 70/100\n",
      "58/58 [==============================] - 0s 1ms/step - loss: 0.4210 - accuracy: 0.7935 - val_loss: 0.5251 - val_accuracy: 0.7662\n",
      "Epoch 71/100\n",
      "58/58 [==============================] - 0s 886us/step - loss: 0.4118 - accuracy: 0.8000 - val_loss: 0.5322 - val_accuracy: 0.7532\n",
      "Epoch 72/100\n",
      "58/58 [==============================] - 0s 830us/step - loss: 0.4215 - accuracy: 0.7957 - val_loss: 0.5308 - val_accuracy: 0.7597\n",
      "Epoch 73/100\n",
      "58/58 [==============================] - 0s 934us/step - loss: 0.4102 - accuracy: 0.8087 - val_loss: 0.5301 - val_accuracy: 0.7597\n",
      "Epoch 74/100\n",
      "58/58 [==============================] - 0s 867us/step - loss: 0.3988 - accuracy: 0.8065 - val_loss: 0.5315 - val_accuracy: 0.7597\n",
      "Epoch 75/100\n",
      "58/58 [==============================] - 0s 818us/step - loss: 0.4166 - accuracy: 0.8130 - val_loss: 0.5406 - val_accuracy: 0.7532\n",
      "Epoch 76/100\n",
      "58/58 [==============================] - 0s 822us/step - loss: 0.4099 - accuracy: 0.7957 - val_loss: 0.5388 - val_accuracy: 0.7532\n",
      "Epoch 77/100\n",
      "58/58 [==============================] - 0s 843us/step - loss: 0.4057 - accuracy: 0.7978 - val_loss: 0.5412 - val_accuracy: 0.7532\n",
      "Epoch 78/100\n",
      "58/58 [==============================] - 0s 828us/step - loss: 0.3981 - accuracy: 0.7957 - val_loss: 0.5276 - val_accuracy: 0.7532\n",
      "Epoch 79/100\n",
      "58/58 [==============================] - 0s 845us/step - loss: 0.4094 - accuracy: 0.8239 - val_loss: 0.5387 - val_accuracy: 0.7403\n",
      "Epoch 80/100\n",
      "58/58 [==============================] - 0s 843us/step - loss: 0.4051 - accuracy: 0.7978 - val_loss: 0.5381 - val_accuracy: 0.7468\n",
      "Epoch 81/100\n",
      "58/58 [==============================] - 0s 841us/step - loss: 0.3949 - accuracy: 0.8130 - val_loss: 0.5490 - val_accuracy: 0.7403\n",
      "Epoch 82/100\n",
      "58/58 [==============================] - 0s 864us/step - loss: 0.4125 - accuracy: 0.8022 - val_loss: 0.5365 - val_accuracy: 0.7597\n",
      "Epoch 83/100\n",
      "58/58 [==============================] - 0s 854us/step - loss: 0.4072 - accuracy: 0.8087 - val_loss: 0.5415 - val_accuracy: 0.7468\n",
      "Epoch 84/100\n",
      "58/58 [==============================] - 0s 824us/step - loss: 0.3758 - accuracy: 0.8196 - val_loss: 0.5413 - val_accuracy: 0.7597\n",
      "Epoch 85/100\n",
      "58/58 [==============================] - 0s 897us/step - loss: 0.4105 - accuracy: 0.7870 - val_loss: 0.5356 - val_accuracy: 0.7597\n",
      "Epoch 86/100\n",
      "58/58 [==============================] - 0s 915us/step - loss: 0.4063 - accuracy: 0.8109 - val_loss: 0.5353 - val_accuracy: 0.7662\n",
      "Epoch 87/100\n",
      "58/58 [==============================] - 0s 848us/step - loss: 0.3967 - accuracy: 0.8109 - val_loss: 0.5375 - val_accuracy: 0.7727\n",
      "Epoch 88/100\n",
      "58/58 [==============================] - 0s 897us/step - loss: 0.4026 - accuracy: 0.8109 - val_loss: 0.5425 - val_accuracy: 0.7727\n",
      "Epoch 89/100\n",
      "58/58 [==============================] - 0s 847us/step - loss: 0.4017 - accuracy: 0.8022 - val_loss: 0.5363 - val_accuracy: 0.7597\n",
      "Epoch 90/100\n",
      "58/58 [==============================] - 0s 874us/step - loss: 0.4051 - accuracy: 0.7957 - val_loss: 0.5443 - val_accuracy: 0.7597\n",
      "Epoch 91/100\n",
      "58/58 [==============================] - 0s 863us/step - loss: 0.4019 - accuracy: 0.8000 - val_loss: 0.5463 - val_accuracy: 0.7532\n",
      "Epoch 92/100\n",
      "58/58 [==============================] - 0s 955us/step - loss: 0.4201 - accuracy: 0.8000 - val_loss: 0.5483 - val_accuracy: 0.7532\n",
      "Epoch 93/100\n",
      "58/58 [==============================] - 0s 849us/step - loss: 0.4082 - accuracy: 0.7870 - val_loss: 0.5437 - val_accuracy: 0.7532\n",
      "Epoch 94/100\n",
      "58/58 [==============================] - 0s 1ms/step - loss: 0.4050 - accuracy: 0.7848 - val_loss: 0.5560 - val_accuracy: 0.7597\n",
      "Epoch 95/100\n",
      "58/58 [==============================] - 0s 826us/step - loss: 0.4076 - accuracy: 0.7957 - val_loss: 0.5486 - val_accuracy: 0.7597\n",
      "Epoch 96/100\n",
      "58/58 [==============================] - 0s 879us/step - loss: 0.3986 - accuracy: 0.7935 - val_loss: 0.5495 - val_accuracy: 0.7597\n",
      "Epoch 97/100\n",
      "58/58 [==============================] - 0s 912us/step - loss: 0.4146 - accuracy: 0.7978 - val_loss: 0.5495 - val_accuracy: 0.7532\n",
      "Epoch 98/100\n",
      "58/58 [==============================] - 0s 1ms/step - loss: 0.4201 - accuracy: 0.7935 - val_loss: 0.5594 - val_accuracy: 0.7403\n",
      "Epoch 99/100\n",
      "58/58 [==============================] - 0s 839us/step - loss: 0.4014 - accuracy: 0.7957 - val_loss: 0.5549 - val_accuracy: 0.7597\n",
      "Epoch 100/100\n",
      "58/58 [==============================] - 0s 808us/step - loss: 0.4024 - accuracy: 0.8022 - val_loss: 0.5555 - val_accuracy: 0.7532\n"
     ]
    }
   ],
   "source": [
    "model_Dropout = Sequential()\n",
    "model_Dropout.add(Dense(12, input_dim = len(feature_final_training[0, :]), activation = 'relu'))\n",
    "model_Dropout.add(Dropout(0.2))\n",
    "model_Dropout.add(Dense(8,activation = 'relu'))\n",
    "model_Dropout.add(Dense(1, activation = 'sigmoid'))\n",
    "model_Dropout.compile(loss = 'binary_crossentropy', optimizer = 'adam', metrics =['accuracy'])\n",
    "metrics_Dropout = model_Dropout.fit(x = feature_final_training, y = outcome_final_training, epochs = 100, validation_data=(feature_valid, outcome_valid),batch_size = 8,verbose = 1)"
   ]
  },
  {
   "cell_type": "markdown",
   "id": "f0bd0b62",
   "metadata": {},
   "source": [
    "Evaluating the model in which we used Dropout regularization"
   ]
  },
  {
   "cell_type": "code",
   "execution_count": 66,
   "id": "9fea90f3",
   "metadata": {},
   "outputs": [
    {
     "name": "stdout",
     "output_type": "stream",
     "text": [
      "4/4 [==============================] - 0s 985us/step - loss: 0.5469 - accuracy: 0.7609\n",
      "2/2 [==============================] - 0s 1ms/step - loss: 0.5762 - accuracy: 0.7857\n",
      "2/2 [==============================] - 0s 1ms/step - loss: 0.6057 - accuracy: 0.7597\n"
     ]
    }
   ],
   "source": [
    "results_train_Dropout = model_L1.evaluate(feature_final_training, outcome_final_training, batch_size=128)\n",
    "results_validation_Dropout =model_L1.evaluate(feature_valid, outcome_valid, batch_size=128)\n",
    "results_test_Dropout = model_L1.evaluate(feature_test, outcome_test, batch_size=128)"
   ]
  },
  {
   "cell_type": "markdown",
   "id": "c891383b",
   "metadata": {},
   "source": [
    "From model in which we used Dropout Regualarization\n",
    "Visualzing Training Acuuracy Vs Validation Accuracy\n",
    "Visualizing Training Loss Vs Validation Loss"
   ]
  },
  {
   "cell_type": "code",
   "execution_count": 67,
   "id": "cc5b0f44",
   "metadata": {},
   "outputs": [
    {
     "data": {
      "image/png": "[encoded data removed]",
      "text/plain": [
       "<Figure size 720x576 with 1 Axes>"
      ]
     },
     "metadata": {
      "needs_background": "light"
     },
     "output_type": "display_data"
    },
    {
     "data": {
      "image/png": "[encoded data removed]",
      "text/plain": [
       "<Figure size 720x576 with 1 Axes>"
      ]
     },
     "metadata": {
      "needs_background": "light"
     },
     "output_type": "display_data"
    }
   ],
   "source": [
    "# Plot the accuracy and loss.\n",
    "\n",
    "# Accuracy\n",
    "plt.figure(figsize=(10, 8))\n",
    "plt.plot(metrics_L2.history['accuracy'])\n",
    "plt.plot(metrics_L2.history['val_accuracy'])\n",
    "plt.title('Training and Validation acurracy')\n",
    "plt.ylabel('Error')\n",
    "plt.xlabel('Epoch')\n",
    "plt.legend(['Training Accuracy', 'Validation Accuracy'], loc='upper left')\n",
    "plt.show()\n",
    "\n",
    "# Loss\n",
    "plt.figure(figsize=(10, 8))\n",
    "plt.plot(metrics_L2.history['loss'])\n",
    "plt.plot(metrics_L2.history['val_loss'])\n",
    "plt.title('Training and Validation Loss')\n",
    "plt.ylabel('Loss')\n",
    "plt.xlabel('Epoch')\n",
    "plt.legend(['Training Loss', 'Validation Loss'], loc='upper left')\n",
    "plt.show()"
   ]
  },
  {
   "cell_type": "markdown",
   "id": "62dc48c1",
   "metadata": {},
   "source": [
    "Visualizing Acuuracy obtained in Training,Validatin,Testing datasets"
   ]
  },
  {
   "cell_type": "code",
   "execution_count": 68,
   "id": "fe77f237",
   "metadata": {},
   "outputs": [
    {
     "data": {
      "image/png": "[encoded data removed]",
      "text/plain": [
       "<Figure size 720x360 with 1 Axes>"
      ]
     },
     "metadata": {
      "needs_background": "light"
     },
     "output_type": "display_data"
    }
   ],
   "source": [
    "data_avail = {'Accuracy_Training':metrics_Dropout.history['accuracy'][-1]*100, 'Accuracy_Validation':metrics_Dropout.history['val_accuracy'][-1]*100, 'Accuracy_Test':results_test_Dropout[-1]*100}\n",
    "split_data_avail = list(data_avail.keys())\n",
    "split_accuracy_cal = list(data_avail.values())\n",
    "  \n",
    "fig = plt.figure(figsize = (10, 5))\n",
    " \n",
    "plt.bar(split_data_avail, split_accuracy_cal,\n",
    "        width = 0.5,color=('green', 'green', 'green'))\n",
    "plt.xlabel(\"Datasets Partition\")\n",
    "plt.ylabel(\"Accuracy %\")\n",
    "plt.title(\"Obtained Accuracy\")\n",
    "plt.show()"
   ]
  },
  {
   "cell_type": "markdown",
   "id": "7c08ac00",
   "metadata": {},
   "source": [
    "comparision between accuracies obtained in model 1 in which we used l1 regularization , model 2\n",
    "in which we used l2 regularization and model 3 in which we used dropout\n"
   ]
  },
  {
   "cell_type": "code",
   "execution_count": 74,
   "id": "84de9ded",
   "metadata": {},
   "outputs": [
    {
     "data": {
      "image/png": "[encoded data removed]",
      "text/plain": [
       "<Figure size 720x360 with 1 Axes>"
      ]
     },
     "metadata": {
      "needs_background": "light"
     },
     "output_type": "display_data"
    }
   ],
   "source": [
    "data_avail = {'Accuracy_L1':metrics_L1.history['accuracy'][-1]*100, 'Accuracy_L2':metrics_L2.history['accuracy'][-1]*100, 'Accuracy_Dropout':metrics_Dropout.history['accuracy'][-1]*100}\n",
    "split_data_avail = list(data_avail.keys())\n",
    "split_accuracy_cal = list(data_avail.values())\n",
    "  \n",
    "fig = plt.figure(figsize = (10, 5))\n",
    " \n",
    "plt.bar(split_data_avail, split_accuracy_cal,width = 0.5,color=('blue','blue','blue'))\n",
    "plt.xlabel(\"Accuracies in each model\")\n",
    "plt.ylabel(\"Accuracy %\")\n",
    "plt.title(\"Obtained Accuracy\")\n",
    "plt.show()"
   ]
  },
  {
   "cell_type": "code",
   "execution_count": null,
   "id": "69ae4e1f",
   "metadata": {},
   "outputs": [],
   "source": []
  }
 ],
 "metadata": {
  "kernelspec": {
   "display_name": "Python 3 (ipykernel)",
   "language": "python",
   "name": "python3"
  },
  "language_info": {
   "codemirror_mode": {
    "name": "ipython",
    "version": 3
   },
   "file_extension": ".py",
   "mimetype": "text/x-python",
   "name": "python",
   "nbconvert_exporter": "python",
   "pygments_lexer": "ipython3",
   "version": "3.9.7"
  }
 },
 "nbformat": 4,
 "nbformat_minor": 5
}
